{
 "cells": [
  {
   "cell_type": "code",
   "execution_count": 1,
   "metadata": {
    "scrolled": true
   },
   "outputs": [
    {
     "name": "stdout",
     "output_type": "stream",
     "text": [
      "100\n"
     ]
    }
   ],
   "source": [
    "#Q1\n",
    "savings=100\n",
    "print(savings)"
   ]
  },
  {
   "cell_type": "code",
   "execution_count": 7,
   "metadata": {
    "scrolled": true
   },
   "outputs": [
    {
     "name": "stdout",
     "output_type": "stream",
     "text": [
      "770.0000000000001\n"
     ]
    }
   ],
   "source": [
    "#Q2\n",
    "factor=1.10\n",
    "savings=100\n",
    "result= savings * factor * 7\n",
    "print(result)\n"
   ]
  },
  {
   "cell_type": "code",
   "execution_count": 11,
   "metadata": {
    "scrolled": true
   },
   "outputs": [
    {
     "name": "stdout",
     "output_type": "stream",
     "text": [
      "<class 'float'>\n",
      "compound interestcompound interest\n"
     ]
    }
   ],
   "source": [
    "#Q3\n",
    "savings=100\n",
    "factor=1.1\n",
    "desc=\"compound interest\"\n",
    "year1= savings * factor\n",
    "print(type(year1))\n",
    "doubledesc= str(desc) + str(desc)\n",
    "print(doubledesc)"
   ]
  },
  {
   "cell_type": "code",
   "execution_count": 4,
   "metadata": {
    "scrolled": true
   },
   "outputs": [
    {
     "name": "stdout",
     "output_type": "stream",
     "text": [
      "[11.25, 18.0, 20.0, 10.75, 9.5]\n"
     ]
    }
   ],
   "source": [
    "#Q4\n",
    "hall = 11.25\n",
    "kit = 18.0\n",
    "liv = 20.0\n",
    "bed = 10.75\n",
    "bath = 9.50\n",
    "areas = [hall, kit, liv, bed, bath]\n",
    "print(areas)\n"
   ]
  },
  {
   "cell_type": "code",
   "execution_count": 3,
   "metadata": {
    "scrolled": true
   },
   "outputs": [
    {
     "name": "stdout",
     "output_type": "stream",
     "text": [
      "['hallway', 11.25, 'kitchen', 18.0, 'living room', 20.0, 'bedroom', 10.75, 'bathroom', 9.5]\n"
     ]
    }
   ],
   "source": [
    "#Q5\n",
    "hall = 11.25\n",
    "kit = 18.0\n",
    "liv = 20.0\n",
    "bed = 10.75\n",
    "bath = 9.50\n",
    "areas = [\"hallway\", hall, \"kitchen\", kit, \"living room\", liv, \"bedroom\", bed, \"bathroom\", bath]\n",
    "print(areas)\n"
   ]
  },
  {
   "cell_type": "code",
   "execution_count": 21,
   "metadata": {
    "scrolled": true
   },
   "outputs": [
    {
     "name": "stdout",
     "output_type": "stream",
     "text": [
      "[['Hallway', 11.25], ['Kitchen', 18.0], ['Living Room', 20.0]]\n",
      "<class 'list'>\n"
     ]
    }
   ],
   "source": [
    "#Q6\n",
    "hall = 11.25\n",
    "kit = 18.0\n",
    "liv = 20.0\n",
    "bed = 10.75\n",
    "bath = 9.50\n",
    "house= [\n",
    "    [\"Hallway\", hall],\n",
    "    [\"Kitchen\", kit],\n",
    "    [\"Living Room\", liv],\n",
    "]\n",
    "print(house)\n",
    "print(type(house))\n"
   ]
  },
  {
   "cell_type": "code",
   "execution_count": 32,
   "metadata": {
    "scrolled": true
   },
   "outputs": [
    {
     "name": "stdout",
     "output_type": "stream",
     "text": [
      "Second element from areas: 11.25\n",
      "Last element from areas: 9.5\n",
      "Area of Living Room: 20.0\n"
     ]
    }
   ],
   "source": [
    "#Q7\n",
    "areas = [\"hallway\", 11.25, \"kitchen\", 18.0, \"living room\", 20.0, \"bedroom\", 10.75, \"bathroom\", 9.50]\n",
    "print((\"Second element from areas:\"), areas[1])\n",
    "print((\"Last element from areas:\"), areas[-1])\n",
    "print(\"Area of Living Room:\", areas[5])"
   ]
  },
  {
   "cell_type": "code",
   "execution_count": 2,
   "metadata": {
    "scrolled": true
   },
   "outputs": [
    {
     "name": "stdout",
     "output_type": "stream",
     "text": [
      "28.75\n"
     ]
    }
   ],
   "source": [
    "#Q8\n",
    "areas = [\"hallway\", 11.25, \"kitchen\", 18.0, \"living room\", 20.0, \"bedroom\", 10.75, \"bathroom\", 9.50]\n",
    "eat_sleep_area = areas[3] + areas[-3]\n",
    "print(eat_sleep_area)"
   ]
  },
  {
   "cell_type": "code",
   "execution_count": 5,
   "metadata": {
    "scrolled": true
   },
   "outputs": [
    {
     "name": "stdout",
     "output_type": "stream",
     "text": [
      "['hallway', 11.25, 'kitchen', 18.0, 'living room', 20.0]\n",
      "['bedroom', 10.75, 'bathroom', 9.5]\n",
      "['hallway', 11.25, 'kitchen', 18.0, 'living room', 20.0]\n",
      "['bedroom', 10.75, 'bathroom', 9.5]\n"
     ]
    }
   ],
   "source": [
    "#Q9\n",
    "areas = [\"hallway\", 11.25, \"kitchen\", 18.0, \"living room\", 20.0, \"bedroom\", 10.75, \"bathroom\", 9.50]\n",
    "downstairs = areas[0:6]\n",
    "upstairs = areas[6:10]\n",
    "\n",
    "# Alternative slicing to create downstairs\n",
    "downstairs1 = areas[:6]\n",
    "\n",
    "# Alternative slicing to create upstairs\n",
    "upstairs1 = areas[6:]\n",
    "\n",
    "print(downstairs)\n",
    "print(upstairs)\n",
    "\n",
    "print(downstairs1)\n",
    "print(upstairs1)"
   ]
  },
  {
   "cell_type": "code",
   "execution_count": 2,
   "metadata": {
    "scrolled": true
   },
   "outputs": [
    {
     "name": "stdout",
     "output_type": "stream",
     "text": [
      "['hallway', 11.25, 'kitchen', 18.0, 'chill zone', 20.0, 'bedroom', 10.75, 'bathroom', 10.5]\n"
     ]
    }
   ],
   "source": [
    "#Q10\n",
    "areas = [\"hallway\", 11.25, \"kitchen\", 18.0, \"living room\", 20.0, \"bedroom\", 10.75, \"bathroom\", 9.50]\n",
    "areas[-1]=10.50\n",
    "areas[4]=\"chill zone\"\n",
    "print(areas)"
   ]
  },
  {
   "cell_type": "code",
   "execution_count": 6,
   "metadata": {
    "scrolled": true
   },
   "outputs": [
    {
     "name": "stdout",
     "output_type": "stream",
     "text": [
      "['hallway', 11.25, 'kitchen', 18.0, 'chill zone', 20.0, 'bedroom', 10.75, 'bathroom', 10.5]\n",
      "['hallway', 11.25, 'kitchen', 18.0, 'chill zone', 20.0, 'bedroom', 10.75, 'bathroom', 10.5, 'poolhouse', 24.5]\n",
      "['hallway', 11.25, 'kitchen', 18.0, 'chill zone', 20.0, 'bedroom', 10.75, 'bathroom', 10.5, 'garage', 15.45]\n"
     ]
    }
   ],
   "source": [
    "#Q11\n",
    "areas = [\"hallway\", 11.25, \"kitchen\", 18.0, \"chill zone\", 20.0, \"bedroom\", 10.75, \"bathroom\", 10.50]\n",
    "# Add poolhouse data to areas, new list is areas_1\n",
    "areas_1 = areas + [\"poolhouse\", 24.5]\n",
    "areas_2=  areas + [\"garage\", 15.45]\n",
    "print(areas)\n",
    "print(areas_1)\n",
    "print(areas_2)\n"
   ]
  },
  {
   "cell_type": "code",
   "execution_count": 12,
   "metadata": {
    "scrolled": true
   },
   "outputs": [
    {
     "name": "stdout",
     "output_type": "stream",
     "text": [
      "<class 'list'>\n",
      "4\n",
      "1\n"
     ]
    }
   ],
   "source": [
    "#Q12\n",
    "var1 = [1, 2, 3, 4]\n",
    "var2 = True\n",
    "print(type(var1))\n",
    "print(len(var1))\n",
    "out2= int(var2)\n",
    "print(out2)\n"
   ]
  },
  {
   "cell_type": "code",
   "execution_count": 15,
   "metadata": {
    "scrolled": true
   },
   "outputs": [
    {
     "name": "stdout",
     "output_type": "stream",
     "text": [
      "[20.0, 18.0, 11.25, 10.75, 9.5]\n"
     ]
    }
   ],
   "source": [
    "#Q13\n",
    "first = [11.25, 18.0, 20.0]\n",
    "second = [10.75, 9.50]\n",
    "full = first + second\n",
    "# Sort full in descending order: full_sorted\n",
    "full_sorted = sorted(full, reverse = True)\n",
    "print(full_sorted)"
   ]
  },
  {
   "cell_type": "code",
   "execution_count": 6,
   "metadata": {
    "scrolled": true
   },
   "outputs": [
    {
     "name": "stdout",
     "output_type": "stream",
     "text": [
      "poolhouse\n",
      "POOLHOUSE\n",
      "3\n"
     ]
    }
   ],
   "source": [
    "#Q14\n",
    "room = \"poolhouse\"\n",
    "room_up = room.upper()\n",
    "print(room)\n",
    "print(room_up)\n",
    "# Print out the number of o's in room\n",
    "print(room.count('o'))"
   ]
  },
  {
   "cell_type": "code",
   "execution_count": 7,
   "metadata": {
    "scrolled": true
   },
   "outputs": [
    {
     "name": "stdout",
     "output_type": "stream",
     "text": [
      "2\n",
      "0\n"
     ]
    }
   ],
   "source": [
    "#Q15\n",
    "areas = [11.25, 18.0, 20.0, 10.75, 9.50]\n",
    "print(areas.index(20.0))\n",
    "print(areas.count(14.5))"
   ]
  },
  {
   "cell_type": "code",
   "execution_count": 21,
   "metadata": {
    "scrolled": true
   },
   "outputs": [
    {
     "name": "stdout",
     "output_type": "stream",
     "text": [
      "[11.25, 18.0, 20.0, 10.75, 9.5, 24.5, 15.45]\n",
      "[15.45, 24.5, 9.5, 10.75, 20.0, 18.0, 11.25]\n"
     ]
    }
   ],
   "source": [
    "#Q16\n",
    "areas = [11.25, 18.0, 20.0, 10.75, 9.50]\n",
    "areas.append(24.5)\n",
    "areas.append(15.45)\n",
    "print(areas)\n",
    "areas.reverse()\n",
    "print(areas)"
   ]
  },
  {
   "cell_type": "code",
   "execution_count": 23,
   "metadata": {
    "scrolled": true
   },
   "outputs": [
    {
     "name": "stdout",
     "output_type": "stream",
     "text": [
      "Circumference: 2.701769682087222\n",
      "Area: 0.5808804816487527\n"
     ]
    }
   ],
   "source": [
    "#Q17\n",
    "r = 0.43\n",
    "import math\n",
    "# Calculate Circumference\n",
    "C = 2 * r * math.pi\n",
    "# Calculate Area\n",
    "A = math.pi * r ** 2\n",
    "print(\"Circumference: \" + str(C))\n",
    "print(\"Area: \" + str(A))"
   ]
  },
  {
   "cell_type": "code",
   "execution_count": 24,
   "metadata": {
    "scrolled": true
   },
   "outputs": [
    {
     "name": "stdout",
     "output_type": "stream",
     "text": [
      "40317.10572106901\n"
     ]
    }
   ],
   "source": [
    "#Q18\n",
    "r = 192500\n",
    "from math import radians\n",
    "dist = r * radians(12)\n",
    "print(dist)"
   ]
  },
  {
   "cell_type": "code",
   "execution_count": 26,
   "metadata": {
    "scrolled": true
   },
   "outputs": [
    {
     "name": "stdout",
     "output_type": "stream",
     "text": [
      "<class 'numpy.ndarray'>\n"
     ]
    }
   ],
   "source": [
    "#Q19\n",
    "baseball = [180, 215, 210, 210, 188, 176, 209, 200]\n",
    "import numpy as np\n",
    "np_baseball = np.array(baseball)\n",
    "print(type(np_baseball))"
   ]
  },
  {
   "cell_type": "code",
   "execution_count": 41,
   "metadata": {
    "scrolled": true
   },
   "outputs": [
    {
     "name": "stdout",
     "output_type": "stream",
     "text": [
      "[11 22 33 44 55]\n",
      "heights in metres [0.2794 0.5588 0.8382 1.1176 1.397 ]\n",
      "BMI'S [383.49218517 111.85188734  56.81365706  35.95239236  25.56614568]\n",
      "[False False False False False]\n",
      "[]\n"
     ]
    }
   ],
   "source": [
    "#Q20 ,Q21, Q23\n",
    "import numpy as np\n",
    "height=[11,22,33,44,55]\n",
    "weight=[66,77,88,99,110]\n",
    "np_height = np.array(height)\n",
    "\n",
    "print(np_height)\n",
    "\n",
    "# Convert np_height into m: np_height_m\n",
    "np_height_m = np_height * 0.0254\n",
    "\n",
    "# Print np_height_m\n",
    "print(\"heights in metres\", np_height_m)\n",
    "\n",
    "# Convert weight into kg: np_weight_kg\n",
    "np_weight_kg = np.array(weight) * 0.453592\n",
    "\n",
    "# Calculate the BMI: bmi\n",
    "bmi = np_weight_kg / np_height_m ** 2\n",
    "\n",
    "# Print out bmi\n",
    "print(\"BMI'S\", bmi)\n",
    "\n",
    "# Create the light array\n",
    "light = bmi < 21\n",
    "\n",
    "# Print out light\n",
    "print(light)\n",
    "\n",
    "# Print out BMIs of all baseball players whose BMI is below 21\n",
    "print(bmi[light])\n"
   ]
  },
  {
   "cell_type": "code",
   "execution_count": 45,
   "metadata": {
    "scrolled": true
   },
   "outputs": [
    {
     "name": "stdout",
     "output_type": "stream",
     "text": [
      "<class 'numpy.ndarray'>\n",
      "(4, 2)\n"
     ]
    }
   ],
   "source": [
    "#Q24\n",
    "baseball = [[180, 78.4],\n",
    "[215, 102.7],\n",
    "[210, 98.5],\n",
    "[188, 75.2]]\n",
    "import numpy as np\n",
    "\n",
    "# Create a 2D numpy array from baseball: np_baseball\n",
    "np_baseball = np.array(baseball)\n",
    "print(type(np_baseball))\n",
    "\n",
    "# Print out the shape of np_baseball\n",
    "print(np_baseball.shape)\n",
    "\n"
   ]
  },
  {
   "cell_type": "code",
   "execution_count": 16,
   "metadata": {
    "scrolled": true
   },
   "outputs": [
    {
     "name": "stdout",
     "output_type": "stream",
     "text": [
      "[[350.  146.7]\n",
      " [510.  205.4]\n",
      " [720.  167. ]\n",
      " [346.  170.4]]\n"
     ]
    }
   ],
   "source": [
    "#Q25\n",
    "import numpy as np\n",
    "baseball = [[180, 78.4],\n",
    "[215, 102.7],\n",
    "[210, 98.5],\n",
    "[188, 75.2]]\n",
    "\n",
    "updated = [[170, 68.3],\n",
    "[295, 102.7],\n",
    "[510, 68.5],\n",
    "[158, 95.2]]\n",
    "\n",
    "np_baseball = np.array(baseball)\n",
    "print(np_baseball + updated)\n",
    "conversion = np.array([0.0254, 0.453592, 1])\n",
    "print(np_baseball * conversion)\n"
   ]
  },
  {
   "cell_type": "code",
   "execution_count": 15,
   "metadata": {},
   "outputs": [
    {
     "name": "stdout",
     "output_type": "stream",
     "text": [
      "Mean of np_height 198.25\n",
      "Median of np_height 199.0\n"
     ]
    }
   ],
   "source": [
    "#Q26\n",
    "import numpy as np\n",
    "height=[11,22,33,44,55]\n",
    "weight=[66,77,88,99,110]\n",
    "np_height_in = np_baseball[:,0]\n",
    "print(\"Mean of np_height\", np.mean(np_height_in))\n",
    "print(\"Median of np_height\", np.median(np_height_in))"
   ]
  },
  {
   "cell_type": "code",
   "execution_count": 5,
   "metadata": {},
   "outputs": [
    {
     "name": "stdout",
     "output_type": "stream",
     "text": [
      "Average: 198.25\n",
      "Median: 199.0\n",
      "Standard Deviation: 14.635146053251399\n",
      "Correlation: [[1.         0.95865738]\n",
      " [0.95865738 1.        ]]\n"
     ]
    }
   ],
   "source": [
    "#Q27\n",
    "import numpy as np\n",
    "height=[11,22,33,44,55]\n",
    "weight=[66,77,88,99,110]\n",
    "avg = np.mean(np_baseball[:,0])\n",
    "print(\"Average: \" + str(avg))\n",
    "med = np.median(np_baseball[:,0])\n",
    "print(\"Median: \" + str(med))\n",
    "stddev = np.std(np_baseball[:,0])\n",
    "print(\"Standard Deviation: \" + str(stddev))\n",
    "corr = np.corrcoef(np_baseball[:,0], np_baseball[:,1])\n",
    "print(\"Correlation: \" + str(corr))"
   ]
  },
  {
   "cell_type": "code",
   "execution_count": 2,
   "metadata": {},
   "outputs": [
    {
     "data": {
      "text/html": [
       "<div>\n",
       "<style scoped>\n",
       "    .dataframe tbody tr th:only-of-type {\n",
       "        vertical-align: middle;\n",
       "    }\n",
       "\n",
       "    .dataframe tbody tr th {\n",
       "        vertical-align: top;\n",
       "    }\n",
       "\n",
       "    .dataframe thead th {\n",
       "        text-align: right;\n",
       "    }\n",
       "</style>\n",
       "<table border=\"1\" class=\"dataframe\">\n",
       "  <thead>\n",
       "    <tr style=\"text-align: right;\">\n",
       "      <th></th>\n",
       "      <th>Timestamp</th>\n",
       "      <th>Registration Number</th>\n",
       "      <th>Name</th>\n",
       "      <th>Upload picture of Corona Vaccine Card or Message</th>\n",
       "    </tr>\n",
       "  </thead>\n",
       "  <tbody>\n",
       "    <tr>\n",
       "      <th>0</th>\n",
       "      <td>2021/11/16 6:52:56 pm GMT+5</td>\n",
       "      <td>21-NTU-CS-1386</td>\n",
       "      <td>Basharat Ali</td>\n",
       "      <td>https://drive.google.com/u/0/open?usp=forms_we...</td>\n",
       "    </tr>\n",
       "    <tr>\n",
       "      <th>1</th>\n",
       "      <td>2021/11/16 8:35:56 pm GMT+5</td>\n",
       "      <td>21-NTU-CS-1389</td>\n",
       "      <td>Hammad Yasir</td>\n",
       "      <td>https://drive.google.com/u/0/open?usp=forms_we...</td>\n",
       "    </tr>\n",
       "    <tr>\n",
       "      <th>2</th>\n",
       "      <td>2021/11/16 8:36:12 pm GMT+5</td>\n",
       "      <td>21-NTU-CS-1401</td>\n",
       "      <td>Azeem Kamoka</td>\n",
       "      <td>https://drive.google.com/u/0/open?usp=forms_we...</td>\n",
       "    </tr>\n",
       "    <tr>\n",
       "      <th>3</th>\n",
       "      <td>2021/11/16 8:37:22 pm GMT+5</td>\n",
       "      <td>21-NTU-CS-1409</td>\n",
       "      <td>Muhammad Zaid Majeed</td>\n",
       "      <td>https://drive.google.com/u/0/open?usp=forms_we...</td>\n",
       "    </tr>\n",
       "    <tr>\n",
       "      <th>4</th>\n",
       "      <td>2021/11/16 8:39:37 pm GMT+5</td>\n",
       "      <td>21-NTU-CS-1835</td>\n",
       "      <td>Anum Saroosh</td>\n",
       "      <td>https://drive.google.com/u/0/open?usp=forms_we...</td>\n",
       "    </tr>\n",
       "    <tr>\n",
       "      <th>5</th>\n",
       "      <td>2021/11/16 8:42:05 pm GMT+5</td>\n",
       "      <td>21- NTU-CS- 1396</td>\n",
       "      <td>MIAN REBAAL MUNEEB</td>\n",
       "      <td>https://drive.google.com/u/0/open?usp=forms_we...</td>\n",
       "    </tr>\n",
       "    <tr>\n",
       "      <th>6</th>\n",
       "      <td>2021/11/16 8:42:41 pm GMT+5</td>\n",
       "      <td>21-NTU-CS-1403</td>\n",
       "      <td>MUHAMMAD HAMMAD TAHIR</td>\n",
       "      <td>https://drive.google.com/u/0/open?usp=forms_we...</td>\n",
       "    </tr>\n",
       "    <tr>\n",
       "      <th>7</th>\n",
       "      <td>2021/11/16 8:44:46 pm GMT+5</td>\n",
       "      <td>21-NTU-CS-1417</td>\n",
       "      <td>SYED ABDUL MUEEZ HAIDER</td>\n",
       "      <td>https://drive.google.com/u/0/open?usp=forms_we...</td>\n",
       "    </tr>\n",
       "    <tr>\n",
       "      <th>8</th>\n",
       "      <td>2021/11/16 8:48:05 pm GMT+5</td>\n",
       "      <td>21-NTU-CS-1381</td>\n",
       "      <td>Abd-ul-Ahad</td>\n",
       "      <td>https://drive.google.com/u/0/open?usp=forms_we...</td>\n",
       "    </tr>\n",
       "    <tr>\n",
       "      <th>9</th>\n",
       "      <td>2021/11/16 8:50:30 pm GMT+5</td>\n",
       "      <td>21-NTU-CS-1834</td>\n",
       "      <td>Abdul Rehman</td>\n",
       "      <td>https://drive.google.com/u/0/open?usp=forms_we...</td>\n",
       "    </tr>\n",
       "    <tr>\n",
       "      <th>10</th>\n",
       "      <td>2021/11/16 8:51:25 pm GMT+5</td>\n",
       "      <td>21-NTU-CS-1836</td>\n",
       "      <td>Mahad Rauf</td>\n",
       "      <td>https://drive.google.com/u/0/open?usp=forms_we...</td>\n",
       "    </tr>\n",
       "    <tr>\n",
       "      <th>11</th>\n",
       "      <td>2021/11/16 9:00:22 pm GMT+5</td>\n",
       "      <td>21-NTU-CS-1407</td>\n",
       "      <td>Muhammad Umar</td>\n",
       "      <td>https://drive.google.com/u/0/open?usp=forms_we...</td>\n",
       "    </tr>\n",
       "    <tr>\n",
       "      <th>12</th>\n",
       "      <td>2021/11/16 9:00:54 pm GMT+5</td>\n",
       "      <td>21-NTU-CS-1391</td>\n",
       "      <td>Hania Sadiq</td>\n",
       "      <td>https://drive.google.com/u/0/open?usp=forms_we...</td>\n",
       "    </tr>\n",
       "    <tr>\n",
       "      <th>13</th>\n",
       "      <td>2021/11/16 9:01:38 pm GMT+5</td>\n",
       "      <td>21-NTU-CS-1397</td>\n",
       "      <td>Mubeen sultan</td>\n",
       "      <td>https://drive.google.com/u/0/open?usp=forms_we...</td>\n",
       "    </tr>\n",
       "    <tr>\n",
       "      <th>14</th>\n",
       "      <td>2021/11/16 9:09:52 pm GMT+5</td>\n",
       "      <td>21-NTU-CS-1405</td>\n",
       "      <td>Muhammad Junaid Anwar</td>\n",
       "      <td>https://drive.google.com/u/0/open?usp=forms_we...</td>\n",
       "    </tr>\n",
       "    <tr>\n",
       "      <th>15</th>\n",
       "      <td>2021/11/16 9:10:30 pm GMT+5</td>\n",
       "      <td>21-NTU-CS-1411</td>\n",
       "      <td>Mushaf Ali Kazmi</td>\n",
       "      <td>https://drive.google.com/u/0/open?usp=forms_we...</td>\n",
       "    </tr>\n",
       "  </tbody>\n",
       "</table>\n",
       "</div>"
      ],
      "text/plain": [
       "                      Timestamp Registration Number                     Name  \\\n",
       "0   2021/11/16 6:52:56 pm GMT+5      21-NTU-CS-1386             Basharat Ali   \n",
       "1   2021/11/16 8:35:56 pm GMT+5      21-NTU-CS-1389             Hammad Yasir   \n",
       "2   2021/11/16 8:36:12 pm GMT+5      21-NTU-CS-1401             Azeem Kamoka   \n",
       "3   2021/11/16 8:37:22 pm GMT+5      21-NTU-CS-1409     Muhammad Zaid Majeed   \n",
       "4   2021/11/16 8:39:37 pm GMT+5      21-NTU-CS-1835             Anum Saroosh   \n",
       "5   2021/11/16 8:42:05 pm GMT+5    21- NTU-CS- 1396       MIAN REBAAL MUNEEB   \n",
       "6   2021/11/16 8:42:41 pm GMT+5      21-NTU-CS-1403    MUHAMMAD HAMMAD TAHIR   \n",
       "7   2021/11/16 8:44:46 pm GMT+5      21-NTU-CS-1417  SYED ABDUL MUEEZ HAIDER   \n",
       "8   2021/11/16 8:48:05 pm GMT+5      21-NTU-CS-1381              Abd-ul-Ahad   \n",
       "9   2021/11/16 8:50:30 pm GMT+5     21-NTU-CS-1834              Abdul Rehman   \n",
       "10  2021/11/16 8:51:25 pm GMT+5      21-NTU-CS-1836               Mahad Rauf   \n",
       "11  2021/11/16 9:00:22 pm GMT+5      21-NTU-CS-1407           Muhammad Umar    \n",
       "12  2021/11/16 9:00:54 pm GMT+5     21-NTU-CS-1391              Hania Sadiq    \n",
       "13  2021/11/16 9:01:38 pm GMT+5      21-NTU-CS-1397            Mubeen sultan   \n",
       "14  2021/11/16 9:09:52 pm GMT+5      21-NTU-CS-1405    Muhammad Junaid Anwar   \n",
       "15  2021/11/16 9:10:30 pm GMT+5      21-NTU-CS-1411         Mushaf Ali Kazmi   \n",
       "\n",
       "     Upload picture of Corona Vaccine Card or Message  \n",
       "0   https://drive.google.com/u/0/open?usp=forms_we...  \n",
       "1   https://drive.google.com/u/0/open?usp=forms_we...  \n",
       "2   https://drive.google.com/u/0/open?usp=forms_we...  \n",
       "3   https://drive.google.com/u/0/open?usp=forms_we...  \n",
       "4   https://drive.google.com/u/0/open?usp=forms_we...  \n",
       "5   https://drive.google.com/u/0/open?usp=forms_we...  \n",
       "6   https://drive.google.com/u/0/open?usp=forms_we...  \n",
       "7   https://drive.google.com/u/0/open?usp=forms_we...  \n",
       "8   https://drive.google.com/u/0/open?usp=forms_we...  \n",
       "9   https://drive.google.com/u/0/open?usp=forms_we...  \n",
       "10  https://drive.google.com/u/0/open?usp=forms_we...  \n",
       "11  https://drive.google.com/u/0/open?usp=forms_we...  \n",
       "12  https://drive.google.com/u/0/open?usp=forms_we...  \n",
       "13  https://drive.google.com/u/0/open?usp=forms_we...  \n",
       "14  https://drive.google.com/u/0/open?usp=forms_we...  \n",
       "15  https://drive.google.com/u/0/open?usp=forms_we...  "
      ]
     },
     "execution_count": 2,
     "metadata": {},
     "output_type": "execute_result"
    }
   ],
   "source": [
    "import pandas as pd\n",
    "data=pd.read_csv('CoronavirusVaccineVerificationForm.csv')\n",
    "data"
   ]
  },
  {
   "cell_type": "code",
   "execution_count": null,
   "metadata": {},
   "outputs": [],
   "source": []
  }
 ],
 "metadata": {
  "kernelspec": {
   "display_name": "Python 3",
   "language": "python",
   "name": "python3"
  },
  "language_info": {
   "codemirror_mode": {
    "name": "ipython",
    "version": 3
   },
   "file_extension": ".py",
   "mimetype": "text/x-python",
   "name": "python",
   "nbconvert_exporter": "python",
   "pygments_lexer": "ipython3",
   "version": "3.8.5"
  }
 },
 "nbformat": 4,
 "nbformat_minor": 5
}
