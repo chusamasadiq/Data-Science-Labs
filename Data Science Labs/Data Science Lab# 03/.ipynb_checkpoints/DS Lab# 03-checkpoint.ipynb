{
 "cells": [
  {
   "cell_type": "code",
   "execution_count": 6,
   "metadata": {},
   "outputs": [
    {
     "name": "stdout",
     "output_type": "stream",
     "text": [
      "    Car;MPG;Cylinders;Displacement;Horsepower;Weight;Acceleration;Model;Origin\n",
      "0    STRING;DOUBLE;INT;DOUBLE;DOUBLE;DOUBLE;DOUBLE;...                        \n",
      "1    Chevrolet Chevelle Malibu;18.0;8;307.0;130.0;3...                        \n",
      "2    Buick Skylark 320;15.0;8;350.0;165.0;3693.;11....                        \n",
      "3    Plymouth Satellite;18.0;8;318.0;150.0;3436.;11...                        \n",
      "4    AMC Rebel SST;16.0;8;304.0;150.0;3433.;12.0;70;US                        \n",
      "..                                                 ...                        \n",
      "402  Ford Mustang GL;27.0;4;140.0;86.00;2790.;15.6;...                        \n",
      "403  Volkswagen Pickup;44.0;4;97.00;52.00;2130.;24....                        \n",
      "404  Dodge Rampage;32.0;4;135.0;84.00;2295.;11.6;82;US                        \n",
      "405    Ford Ranger;28.0;4;120.0;79.00;2625.;18.6;82;US                        \n",
      "406     Chevy S-10;31.0;4;119.0;82.00;2720.;19.4;82;US                        \n",
      "\n",
      "[407 rows x 1 columns]\n"
     ]
    },
    {
     "data": {
      "text/html": [
       "<div>\n",
       "<style scoped>\n",
       "    .dataframe tbody tr th:only-of-type {\n",
       "        vertical-align: middle;\n",
       "    }\n",
       "\n",
       "    .dataframe tbody tr th {\n",
       "        vertical-align: top;\n",
       "    }\n",
       "\n",
       "    .dataframe thead th {\n",
       "        text-align: right;\n",
       "    }\n",
       "</style>\n",
       "<table border=\"1\" class=\"dataframe\">\n",
       "  <thead>\n",
       "    <tr style=\"text-align: right;\">\n",
       "      <th></th>\n",
       "      <th>Car;MPG;Cylinders;Displacement;Horsepower;Weight;Acceleration;Model;Origin</th>\n",
       "    </tr>\n",
       "  </thead>\n",
       "  <tbody>\n",
       "    <tr>\n",
       "      <th>0</th>\n",
       "      <td>STRING;DOUBLE;INT;DOUBLE;DOUBLE;DOUBLE;DOUBLE;...</td>\n",
       "    </tr>\n",
       "    <tr>\n",
       "      <th>1</th>\n",
       "      <td>Chevrolet Chevelle Malibu;18.0;8;307.0;130.0;3...</td>\n",
       "    </tr>\n",
       "    <tr>\n",
       "      <th>2</th>\n",
       "      <td>Buick Skylark 320;15.0;8;350.0;165.0;3693.;11....</td>\n",
       "    </tr>\n",
       "    <tr>\n",
       "      <th>3</th>\n",
       "      <td>Plymouth Satellite;18.0;8;318.0;150.0;3436.;11...</td>\n",
       "    </tr>\n",
       "    <tr>\n",
       "      <th>4</th>\n",
       "      <td>AMC Rebel SST;16.0;8;304.0;150.0;3433.;12.0;70;US</td>\n",
       "    </tr>\n",
       "    <tr>\n",
       "      <th>5</th>\n",
       "      <td>Ford Torino;17.0;8;302.0;140.0;3449.;10.5;70;US</td>\n",
       "    </tr>\n",
       "    <tr>\n",
       "      <th>6</th>\n",
       "      <td>Ford Galaxie 500;15.0;8;429.0;198.0;4341.;10.0...</td>\n",
       "    </tr>\n",
       "    <tr>\n",
       "      <th>7</th>\n",
       "      <td>Chevrolet Impala;14.0;8;454.0;220.0;4354.;9.0;...</td>\n",
       "    </tr>\n",
       "    <tr>\n",
       "      <th>8</th>\n",
       "      <td>Plymouth Fury iii;14.0;8;440.0;215.0;4312.;8.5...</td>\n",
       "    </tr>\n",
       "    <tr>\n",
       "      <th>9</th>\n",
       "      <td>Pontiac Catalina;14.0;8;455.0;225.0;4425.;10.0...</td>\n",
       "    </tr>\n",
       "  </tbody>\n",
       "</table>\n",
       "</div>"
      ],
      "text/plain": [
       "  Car;MPG;Cylinders;Displacement;Horsepower;Weight;Acceleration;Model;Origin\n",
       "0  STRING;DOUBLE;INT;DOUBLE;DOUBLE;DOUBLE;DOUBLE;...                        \n",
       "1  Chevrolet Chevelle Malibu;18.0;8;307.0;130.0;3...                        \n",
       "2  Buick Skylark 320;15.0;8;350.0;165.0;3693.;11....                        \n",
       "3  Plymouth Satellite;18.0;8;318.0;150.0;3436.;11...                        \n",
       "4  AMC Rebel SST;16.0;8;304.0;150.0;3433.;12.0;70;US                        \n",
       "5    Ford Torino;17.0;8;302.0;140.0;3449.;10.5;70;US                        \n",
       "6  Ford Galaxie 500;15.0;8;429.0;198.0;4341.;10.0...                        \n",
       "7  Chevrolet Impala;14.0;8;454.0;220.0;4354.;9.0;...                        \n",
       "8  Plymouth Fury iii;14.0;8;440.0;215.0;4312.;8.5...                        \n",
       "9  Pontiac Catalina;14.0;8;455.0;225.0;4425.;10.0...                        "
      ]
     },
     "execution_count": 6,
     "metadata": {},
     "output_type": "execute_result"
    }
   ],
   "source": [
    "import pandas as pd\n",
    "dataset= pd.read_csv(\"cars.csv\")\n",
    "print(dataset)\n",
    "dataset.head(10)"
   ]
  },
  {
   "cell_type": "code",
   "execution_count": null,
   "metadata": {},
   "outputs": [],
   "source": []
  },
  {
   "cell_type": "code",
   "execution_count": null,
   "metadata": {},
   "outputs": [],
   "source": []
  },
  {
   "cell_type": "code",
   "execution_count": null,
   "metadata": {},
   "outputs": [],
   "source": []
  }
 ],
 "metadata": {
  "kernelspec": {
   "display_name": "Python 3",
   "language": "python",
   "name": "python3"
  },
  "language_info": {
   "codemirror_mode": {
    "name": "ipython",
    "version": 3
   },
   "file_extension": ".py",
   "mimetype": "text/x-python",
   "name": "python",
   "nbconvert_exporter": "python",
   "pygments_lexer": "ipython3",
   "version": "3.8.5"
  }
 },
 "nbformat": 4,
 "nbformat_minor": 4
}
