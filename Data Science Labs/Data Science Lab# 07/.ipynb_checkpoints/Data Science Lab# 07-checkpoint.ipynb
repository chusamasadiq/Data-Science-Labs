{
 "cells": [
  {
   "cell_type": "code",
   "execution_count": 6,
   "metadata": {},
   "outputs": [],
   "source": [
    "from selenium import webdriver\n",
    "from selenium.webdriver.chrome.service import Service\n",
    "from bs4 import BeautifulSoup\n",
    "import pandas as pd\n",
    "import warnings \n",
    "warnings.filterwarnings(\"ignore\") # We used warning Library for ignore the warnigns \n",
    "\n",
    "driver = webdriver.Chrome(executable_path = \"C:\\\\Users\\\\Kamal\\\\Downloads\\\\Compressed\\\\chromedriver.exe\") \n",
    "\n",
    "#s = Service(\"C:\\\\Users\\\\Kamal\\\\Downloads\\\\Compressed\\\\chromedriver.exe\") # Here We Create ('s') object of Service Class \n",
    "#driver = webdriver.Chrome(service = s) \n"
   ]
  },
  {
   "cell_type": "code",
   "execution_count": 7,
   "metadata": {},
   "outputs": [],
   "source": [
    "driver.get(\"https://www.flipkart.com/search?q=laptop&otracker=search&otracker1=search&marketplace=FLIPKART&as-show=off&as=off\")"
   ]
  },
  {
   "cell_type": "code",
   "execution_count": 8,
   "metadata": {},
   "outputs": [],
   "source": [
    "Products = []\n",
    "Prices = []\n",
    "Ratings = []\n"
   ]
  },
  {
   "cell_type": "code",
   "execution_count": 9,
   "metadata": {},
   "outputs": [
    {
     "data": {
      "text/plain": [
       "['HP Pavilion Gaming Ryzen 5 Hexa Core 4600H - (8 GB/1 TB HDD/Windows 10 Home/4 GB Graphics/NVIDIA GeFor...',\n",
       " 'HP OMEN 15 Ryzen 7 Octa Core 5800H - (16 GB/1 TB SSD/Windows 10 Home/6 GB Graphics/NVIDIA GeForce RTX ...',\n",
       " 'acer Aspire 7 Core i5 10th Gen - (8 GB/512 GB SSD/Windows 10 Home/4 GB Graphics/NVIDIA GeForce GTX 165...',\n",
       " 'DELL Vostro Core i3 10th Gen - (8 GB/1 TB HDD/Windows 10 Home) Vostro 3401 Thin and Light Laptop',\n",
       " 'ASUS VivoBook 15 (2021) Core i3 11th Gen - (4 GB/256 GB SSD/Windows 10 Home) X515EA-EJ302TS Thin and L...',\n",
       " 'acer Aspire Core i3 11th Gen - (4 GB/256 GB SSD/Windows 10 Home) A514-54 Thin and Light Laptop',\n",
       " 'HP Ryzen 3 Dual Core 3250U - (8 GB/256 GB SSD/Windows 10 Home) 15s-GY0501AU Thin and Light Laptop',\n",
       " 'HP HP Pavilion Ryzen 5 Hexa Core 4600H - (8 GB/512 GB SSD/Windows 10 Home/4 GB Graphics/NVIDIA GeForce...',\n",
       " 'RedmiBook 15 e-Learning Edition Core i3 11th Gen - (8 GB/512 GB SSD/Windows 10 Home) Thin and Light La...',\n",
       " 'DELL Vostro Core i3 11th Gen - (8 GB/256 GB SSD/Windows 10) Vostro 3400 Thin and Light Laptop',\n",
       " 'ASUS Ryzen 3 Dual Core 3250U 3rd Gen - (8 GB/256 GB SSD/Windows 10 Home) M515DA-BQ322TS Thin and Light...',\n",
       " 'HP Pavilion Gaming Ryzen 7 Octa Core 4800H - (16 GB/1 TB HDD/256 GB SSD/Windows 10 Home/4 GB Graphics/...',\n",
       " 'DELL Inspiron Ryzen 3 Dual Core 3250U - (8 GB/256 GB SSD/Windows 10) INSPIRON 3505 Laptop',\n",
       " 'ASUS Core i3 10th Gen - (4 GB + 32 GB Optane/512 GB SSD/Windows 10 Home) X515JA-EJ372TS Thin and Light...',\n",
       " 'ASUS ASUS TUF Gaming Core i5 11th Gen - (8 GB/1 TB SSD/Windows 10 Home/4 GB Graphics/NVIDIA GeForce RT...',\n",
       " 'acer Aspire 5 Core i5 11th Gen - (8 GB/1 TB HDD/256 GB SSD/Windows 10 Home) A515-56 Thin and Light Lap...',\n",
       " 'HP Pavilion Ryzen 5 Hexa Core 5600H - (8 GB/512 GB SSD/Windows 10 Home/4 GB Graphics/NVIDIA GeForce GT...',\n",
       " 'acer Aspire 7 Ryzen 5 Hexa Core 5500U - (8 GB/512 GB SSD/Windows 10 Home/4 GB Graphics/NVIDIA GeForce ...',\n",
       " 'ASUS Vivobook Gaming Core i5 9th Gen - (8 GB/512 GB SSD/Windows 10 Home/4 GB Graphics/NVIDIA GeForce G...',\n",
       " 'Lenovo IdeaPad 3 Ryzen 3 Dual Core 3250U - (8 GB/256 GB SSD/Windows 10 Home) 15ADA05 Thin and Light La...',\n",
       " 'Lenovo Ideapad Slim 5i Core i5 11th Gen - (16 GB/512 GB SSD/Windows 10 Home) 15 ITL 05 Thin and Light ...',\n",
       " 'DELL G15 Ryzen 5 Hexa Core 5600H - (8 GB/512 GB SSD/Windows 10/4 GB Graphics/NVIDIA GeForce RTX 3050) ...',\n",
       " 'MSI GF63 Thin Hexa Core i5 10th Gen - (8 GB/1 TB HDD/256 GB SSD/Windows 10 Home/4 GB Graphics/NVIDIA G...',\n",
       " 'Lenovo IdeaPad 3 Core i3 10th Gen - (8 GB/256 GB SSD/Windows 11 Home) 14IML05 Thin and Light Laptop']"
      ]
     },
     "execution_count": 9,
     "metadata": {},
     "output_type": "execute_result"
    }
   ],
   "source": [
    "content = driver.page_source\n",
    "soup = BeautifulSoup(content)\n",
    "for a in soup.findAll('a', href = True, attrs={'class':'_1fQZEK'}):\n",
    "    name = a.find('div',  attrs = {'class':'_4rR01T'})\n",
    "    price = a.find('div', attrs = {'class':'_30jeq3 _1_WHN1'})\n",
    "    rating = a.find('div',attrs = {'class':'_3LWZlK'})\n",
    "    Products.append(name.text)\n",
    "    Prices.append(price.text)\n",
    "    Ratings.append(rating.text)\n",
    "Products"
   ]
  },
  {
   "cell_type": "code",
   "execution_count": 10,
   "metadata": {},
   "outputs": [],
   "source": [
    "df = pd.DataFrame({'Product Name':Products,'Price':Prices,'Ratings':Ratings})\n",
    "df.to_csv('Lab_8.csv', index = False, encoding = 'utf-8')"
   ]
  },
  {
   "cell_type": "code",
   "execution_count": null,
   "metadata": {},
   "outputs": [],
   "source": [
    "#Example 02"
   ]
  },
  {
   "cell_type": "code",
   "execution_count": 19,
   "metadata": {},
   "outputs": [],
   "source": [
    "driver.get(\"https://www.amazon.com/Apple-iPhone-Pro-256GB-Gold/dp/B08BHPMGGM/?_encoding=UTF8&pd_rd_w=7ncwS&pf_rd_p=bb36b0f2-940b-4dee-bad4-0ca8e4acea61&pf_rd_r=FQK0BC3WS80193MPDYZK&pd_rd_r=d8088f73-90b8-4fa6-bc09-3e768385267d&pd_rd_wg=lapfu&ref_=pd_gw_exports_top_sellers_unrec\")"
   ]
  },
  {
   "cell_type": "code",
   "execution_count": 20,
   "metadata": {},
   "outputs": [],
   "source": [
    "Products1 = []\n",
    "Ratings1 = []\n",
    "Prices1 = []\n"
   ]
  },
  {
   "cell_type": "code",
   "execution_count": 25,
   "metadata": {},
   "outputs": [
    {
     "data": {
      "text/plain": [
       "[]"
      ]
     },
     "execution_count": 25,
     "metadata": {},
     "output_type": "execute_result"
    }
   ],
   "source": [
    "content = driver.page_source\n",
    "soup = BeautifulSoup(content)\n",
    "for a in soup.findAll('div', span = True, attrs={'id':'ppd'}):\n",
    "    name1 = a.find('div',  attrs = {'id':'productTitle'})\n",
    "    rating1 = a.find('div',attrs = {'id':'acrCustomerReviewText'})\n",
    "    price1 = a.find('div', attrs = {'id':'price_inside_buybox'})\n",
    "    Products1.append(name1.text)\n",
    "    Ratings1.append(rating1.text)\n",
    "    Prices1.append(price1.text)\n",
    "\n",
    "Products1"
   ]
  },
  {
   "cell_type": "code",
   "execution_count": null,
   "metadata": {},
   "outputs": [],
   "source": []
  }
 ],
 "metadata": {
  "kernelspec": {
   "display_name": "Python 3",
   "language": "python",
   "name": "python3"
  },
  "language_info": {
   "codemirror_mode": {
    "name": "ipython",
    "version": 3
   },
   "file_extension": ".py",
   "mimetype": "text/x-python",
   "name": "python",
   "nbconvert_exporter": "python",
   "pygments_lexer": "ipython3",
   "version": "3.8.5"
  }
 },
 "nbformat": 4,
 "nbformat_minor": 4
}
